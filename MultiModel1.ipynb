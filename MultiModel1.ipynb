{
 "cells": [
  {
   "cell_type": "code",
   "execution_count": 2,
   "metadata": {},
   "outputs": [
    {
     "name": "stdout",
     "output_type": "stream",
     "text": [
      "WARNING:tensorflow:From c:\\Users\\rakha_1\\AppData\\Local\\Programs\\Python\\Python311\\Lib\\site-packages\\keras\\src\\losses.py:2976: The name tf.losses.sparse_softmax_cross_entropy is deprecated. Please use tf.compat.v1.losses.sparse_softmax_cross_entropy instead.\n",
      "\n"
     ]
    }
   ],
   "source": [
    "from keras.models import Sequential\n",
    "from keras.layers import Conv2D, MaxPooling2D, Flatten, Dense, Dropout\n",
    "from keras.optimizers import Adam\n",
    "from keras.preprocessing.image import ImageDataGenerator\n"
   ]
  },
  {
   "cell_type": "code",
   "execution_count": 3,
   "metadata": {},
   "outputs": [],
   "source": [
    "img_width, img_height = 150, 150\n",
    "input_shape = (img_width, img_height, 3)"
   ]
  },
  {
   "cell_type": "code",
   "execution_count": 4,
   "metadata": {},
   "outputs": [],
   "source": [
    "num_classes = 3  # glioma, meningioma, pituitary"
   ]
  },
  {
   "cell_type": "code",
   "execution_count": 5,
   "metadata": {},
   "outputs": [],
   "source": [
    "train_data_dir_glioma = 'C:/Users/rakha_1/Downloads/enhance_data_adaptive_clahe/enhance_data/training/glioma'\n",
    "train_data_dir_meningioma = 'C:/Users/rakha_1/Downloads/enhance_data_adaptive_clahe/enhance_data/training/meningioma'\n",
    "train_data_dir_pituitary = 'C:/Users/rakha_1/Downloads/enhance_data_adaptive_clahe/enhance_data/training/pituitary'\n",
    "train_data_dir = 'C:/Users/rakha_1/Downloads/enhance_data_adaptive_clahe/enhance_data/training'"
   ]
  },
  {
   "cell_type": "code",
   "execution_count": 6,
   "metadata": {},
   "outputs": [],
   "source": [
    "validation_data_dir_glioma = 'C:/Users/rakha_1/Downloads/enhance_data_adaptive_clahe/enhance_data/validation/glioma'\n",
    "validation_data_dir_meningioma = 'C:/Users/rakha_1/Downloads/enhance_data_adaptive_clahe/enhance_data/validation/meningioma'\n",
    "validation_data_dir_pituitary = 'C:/Users/rakha_1/Downloads/enhance_data_adaptive_clahe/enhance_data/validation/pituitary'\n",
    "validation_data_dir = 'C:/Users/rakha_1/Downloads/enhance_data_adaptive_clahe/enhance_data/validation'"
   ]
  },
  {
   "cell_type": "code",
   "execution_count": 7,
   "metadata": {},
   "outputs": [],
   "source": [
    "batch_size = 32\n",
    "epochs = 45"
   ]
  },
  {
   "cell_type": "code",
   "execution_count": 8,
   "metadata": {},
   "outputs": [
    {
     "name": "stdout",
     "output_type": "stream",
     "text": [
      "WARNING:tensorflow:From c:\\Users\\rakha_1\\AppData\\Local\\Programs\\Python\\Python311\\Lib\\site-packages\\keras\\src\\backend.py:873: The name tf.get_default_graph is deprecated. Please use tf.compat.v1.get_default_graph instead.\n",
      "\n",
      "WARNING:tensorflow:From c:\\Users\\rakha_1\\AppData\\Local\\Programs\\Python\\Python311\\Lib\\site-packages\\keras\\src\\layers\\pooling\\max_pooling2d.py:161: The name tf.nn.max_pool is deprecated. Please use tf.nn.max_pool2d instead.\n",
      "\n"
     ]
    }
   ],
   "source": [
    "model = Sequential([\n",
    "    Conv2D(32, (3, 3), activation='relu', input_shape=input_shape),\n",
    "    MaxPooling2D(pool_size=(2, 2)),\n",
    "    Conv2D(64, (3, 3), activation='relu'),\n",
    "    MaxPooling2D(pool_size=(2, 2)),\n",
    "    Conv2D(128, (3, 3), activation='relu'),\n",
    "    MaxPooling2D(pool_size=(2, 2)),\n",
    "    Flatten(),\n",
    "    Dense(128, activation='relu'),\n",
    "    Dropout(0.5),\n",
    "    Dense(num_classes, activation='softmax')\n",
    "])"
   ]
  },
  {
   "cell_type": "code",
   "execution_count": 9,
   "metadata": {},
   "outputs": [],
   "source": [
    "model.compile(optimizer=Adam(learning_rate=0.0001),\n",
    "              loss='categorical_crossentropy',\n",
    "              metrics=['accuracy'])"
   ]
  },
  {
   "cell_type": "code",
   "execution_count": 10,
   "metadata": {},
   "outputs": [],
   "source": [
    "train_datagen = ImageDataGenerator(\n",
    "    rescale=1. / 255,\n",
    "    shear_range=0.2,\n",
    "    zoom_range=0.2,\n",
    "    horizontal_flip=True)"
   ]
  },
  {
   "cell_type": "code",
   "execution_count": 11,
   "metadata": {},
   "outputs": [],
   "source": [
    "val_datagen = ImageDataGenerator(rescale=1. / 255)"
   ]
  },
  {
   "cell_type": "code",
   "execution_count": 12,
   "metadata": {},
   "outputs": [
    {
     "name": "stdout",
     "output_type": "stream",
     "text": [
      "Found 2144 images belonging to 3 classes.\n"
     ]
    }
   ],
   "source": [
    "train_generator = train_datagen.flow_from_directory(\n",
    "    train_data_dir,\n",
    "    target_size=(img_width, img_height),\n",
    "    batch_size=batch_size,\n",
    "    class_mode='categorical',\n",
    "    shuffle=True)"
   ]
  },
  {
   "cell_type": "code",
   "execution_count": 13,
   "metadata": {},
   "outputs": [
    {
     "name": "stdout",
     "output_type": "stream",
     "text": [
      "Found 459 images belonging to 3 classes.\n"
     ]
    }
   ],
   "source": [
    "validation_generator = val_datagen.flow_from_directory(\n",
    "    validation_data_dir,\n",
    "    target_size=(img_width, img_height),\n",
    "    batch_size=batch_size,\n",
    "    class_mode='categorical')"
   ]
  },
  {
   "cell_type": "code",
   "execution_count": 14,
   "metadata": {},
   "outputs": [
    {
     "name": "stdout",
     "output_type": "stream",
     "text": [
      "Epoch 1/45\n",
      "WARNING:tensorflow:From c:\\Users\\rakha_1\\AppData\\Local\\Programs\\Python\\Python311\\Lib\\site-packages\\keras\\src\\utils\\tf_utils.py:492: The name tf.ragged.RaggedTensorValue is deprecated. Please use tf.compat.v1.ragged.RaggedTensorValue instead.\n",
      "\n",
      "WARNING:tensorflow:From c:\\Users\\rakha_1\\AppData\\Local\\Programs\\Python\\Python311\\Lib\\site-packages\\keras\\src\\engine\\base_layer_utils.py:384: The name tf.executing_eagerly_outside_functions is deprecated. Please use tf.compat.v1.executing_eagerly_outside_functions instead.\n",
      "\n",
      "67/67 [==============================] - 75s 1s/step - loss: 0.9460 - accuracy: 0.5312 - val_loss: 1.1109 - val_accuracy: 0.4308\n",
      "Epoch 2/45\n",
      "67/67 [==============================] - 39s 589ms/step - loss: 0.9012 - accuracy: 0.5840 - val_loss: 1.1377 - val_accuracy: 0.4554\n",
      "Epoch 3/45\n",
      "67/67 [==============================] - 29s 434ms/step - loss: 0.8506 - accuracy: 0.6217 - val_loss: 1.0874 - val_accuracy: 0.4531\n",
      "Epoch 4/45\n",
      "67/67 [==============================] - 30s 449ms/step - loss: 0.7978 - accuracy: 0.6590 - val_loss: 0.9725 - val_accuracy: 0.5223\n",
      "Epoch 5/45\n",
      "67/67 [==============================] - 31s 455ms/step - loss: 0.7312 - accuracy: 0.6968 - val_loss: 1.1186 - val_accuracy: 0.4866\n",
      "Epoch 6/45\n",
      "67/67 [==============================] - 30s 448ms/step - loss: 0.6828 - accuracy: 0.7178 - val_loss: 0.8935 - val_accuracy: 0.5871\n",
      "Epoch 7/45\n",
      "67/67 [==============================] - 30s 450ms/step - loss: 0.6519 - accuracy: 0.7309 - val_loss: 0.9125 - val_accuracy: 0.5670\n",
      "Epoch 8/45\n",
      "67/67 [==============================] - 44s 650ms/step - loss: 0.5895 - accuracy: 0.7659 - val_loss: 0.9558 - val_accuracy: 0.5759\n",
      "Epoch 9/45\n",
      "67/67 [==============================] - 32s 472ms/step - loss: 0.5800 - accuracy: 0.7747 - val_loss: 0.9424 - val_accuracy: 0.5737\n",
      "Epoch 10/45\n",
      "67/67 [==============================] - 32s 474ms/step - loss: 0.5593 - accuracy: 0.7766 - val_loss: 0.9772 - val_accuracy: 0.5714\n",
      "Epoch 11/45\n",
      "67/67 [==============================] - 31s 466ms/step - loss: 0.5275 - accuracy: 0.7966 - val_loss: 1.0419 - val_accuracy: 0.5647\n",
      "Epoch 12/45\n",
      "67/67 [==============================] - 31s 464ms/step - loss: 0.5090 - accuracy: 0.7990 - val_loss: 0.9681 - val_accuracy: 0.5938\n",
      "Epoch 13/45\n",
      "67/67 [==============================] - 32s 475ms/step - loss: 0.4914 - accuracy: 0.8106 - val_loss: 0.9337 - val_accuracy: 0.5938\n",
      "Epoch 14/45\n",
      "67/67 [==============================] - 31s 463ms/step - loss: 0.4755 - accuracy: 0.8279 - val_loss: 1.0676 - val_accuracy: 0.6004\n",
      "Epoch 15/45\n",
      "67/67 [==============================] - 31s 465ms/step - loss: 0.4640 - accuracy: 0.8158 - val_loss: 0.9622 - val_accuracy: 0.5826\n",
      "Epoch 16/45\n",
      "67/67 [==============================] - 31s 456ms/step - loss: 0.4154 - accuracy: 0.8470 - val_loss: 1.0079 - val_accuracy: 0.5915\n",
      "Epoch 17/45\n",
      "67/67 [==============================] - 30s 453ms/step - loss: 0.4372 - accuracy: 0.8265 - val_loss: 1.0648 - val_accuracy: 0.5714\n",
      "Epoch 18/45\n",
      "67/67 [==============================] - 31s 455ms/step - loss: 0.4324 - accuracy: 0.8391 - val_loss: 0.9839 - val_accuracy: 0.6049\n",
      "Epoch 19/45\n",
      "67/67 [==============================] - 32s 470ms/step - loss: 0.4135 - accuracy: 0.8451 - val_loss: 1.0776 - val_accuracy: 0.5871\n",
      "Epoch 20/45\n",
      "67/67 [==============================] - 31s 454ms/step - loss: 0.4219 - accuracy: 0.8312 - val_loss: 1.1519 - val_accuracy: 0.6027\n",
      "Epoch 21/45\n",
      "67/67 [==============================] - 31s 454ms/step - loss: 0.3804 - accuracy: 0.8605 - val_loss: 0.9995 - val_accuracy: 0.5871\n",
      "Epoch 22/45\n",
      "67/67 [==============================] - 31s 463ms/step - loss: 0.3671 - accuracy: 0.8638 - val_loss: 1.1399 - val_accuracy: 0.5982\n",
      "Epoch 23/45\n",
      "67/67 [==============================] - 33s 492ms/step - loss: 0.3697 - accuracy: 0.8615 - val_loss: 1.1494 - val_accuracy: 0.5804\n",
      "Epoch 24/45\n",
      "67/67 [==============================] - 32s 475ms/step - loss: 0.3667 - accuracy: 0.8629 - val_loss: 1.1483 - val_accuracy: 0.5915\n",
      "Epoch 25/45\n",
      "67/67 [==============================] - 31s 457ms/step - loss: 0.3494 - accuracy: 0.8759 - val_loss: 1.0605 - val_accuracy: 0.5982\n",
      "Epoch 26/45\n",
      "67/67 [==============================] - 31s 461ms/step - loss: 0.3412 - accuracy: 0.8666 - val_loss: 1.1467 - val_accuracy: 0.6183\n",
      "Epoch 27/45\n",
      "67/67 [==============================] - 31s 454ms/step - loss: 0.3319 - accuracy: 0.8633 - val_loss: 1.1871 - val_accuracy: 0.6138\n",
      "Epoch 28/45\n",
      "67/67 [==============================] - 30s 454ms/step - loss: 0.3290 - accuracy: 0.8792 - val_loss: 1.1721 - val_accuracy: 0.6027\n",
      "Epoch 29/45\n",
      "67/67 [==============================] - 31s 461ms/step - loss: 0.3370 - accuracy: 0.8699 - val_loss: 1.3869 - val_accuracy: 0.6027\n",
      "Epoch 30/45\n",
      "67/67 [==============================] - 31s 457ms/step - loss: 0.3097 - accuracy: 0.8867 - val_loss: 1.1513 - val_accuracy: 0.6049\n",
      "Epoch 31/45\n",
      "67/67 [==============================] - 37s 549ms/step - loss: 0.3082 - accuracy: 0.8797 - val_loss: 1.2015 - val_accuracy: 0.6049\n",
      "Epoch 32/45\n",
      "67/67 [==============================] - 56s 837ms/step - loss: 0.2926 - accuracy: 0.8811 - val_loss: 1.2490 - val_accuracy: 0.5915\n",
      "Epoch 33/45\n",
      "67/67 [==============================] - 49s 721ms/step - loss: 0.3011 - accuracy: 0.8834 - val_loss: 1.3441 - val_accuracy: 0.6250\n",
      "Epoch 34/45\n",
      "67/67 [==============================] - 36s 532ms/step - loss: 0.3147 - accuracy: 0.8741 - val_loss: 1.1517 - val_accuracy: 0.6094\n",
      "Epoch 35/45\n",
      "67/67 [==============================] - 37s 548ms/step - loss: 0.2753 - accuracy: 0.8946 - val_loss: 1.1490 - val_accuracy: 0.5982\n",
      "Epoch 36/45\n",
      "67/67 [==============================] - 37s 547ms/step - loss: 0.2704 - accuracy: 0.8988 - val_loss: 1.3098 - val_accuracy: 0.6272\n",
      "Epoch 37/45\n",
      "67/67 [==============================] - 34s 502ms/step - loss: 0.2736 - accuracy: 0.8941 - val_loss: 1.3281 - val_accuracy: 0.6004\n",
      "Epoch 38/45\n",
      "67/67 [==============================] - 33s 496ms/step - loss: 0.2781 - accuracy: 0.8843 - val_loss: 1.3282 - val_accuracy: 0.5915\n",
      "Epoch 39/45\n",
      "67/67 [==============================] - 34s 504ms/step - loss: 0.2560 - accuracy: 0.9035 - val_loss: 1.3135 - val_accuracy: 0.6161\n",
      "Epoch 40/45\n",
      "67/67 [==============================] - 33s 498ms/step - loss: 0.2607 - accuracy: 0.8932 - val_loss: 1.4481 - val_accuracy: 0.6295\n",
      "Epoch 41/45\n",
      "67/67 [==============================] - 33s 489ms/step - loss: 0.2555 - accuracy: 0.8993 - val_loss: 1.3152 - val_accuracy: 0.6183\n",
      "Epoch 42/45\n",
      "67/67 [==============================] - 38s 572ms/step - loss: 0.2472 - accuracy: 0.9058 - val_loss: 1.3971 - val_accuracy: 0.6027\n",
      "Epoch 43/45\n",
      "67/67 [==============================] - 34s 505ms/step - loss: 0.2533 - accuracy: 0.9002 - val_loss: 1.3464 - val_accuracy: 0.6161\n",
      "Epoch 44/45\n",
      "67/67 [==============================] - 41s 617ms/step - loss: 0.2425 - accuracy: 0.9114 - val_loss: 1.5490 - val_accuracy: 0.6228\n",
      "Epoch 45/45\n",
      "67/67 [==============================] - 36s 537ms/step - loss: 0.2452 - accuracy: 0.9039 - val_loss: 1.3234 - val_accuracy: 0.6228\n"
     ]
    }
   ],
   "source": [
    "history = model.fit(\n",
    "    train_generator,\n",
    "    steps_per_epoch=train_generator.samples // batch_size,\n",
    "    epochs=epochs,\n",
    "    validation_data=validation_generator,\n",
    "    validation_steps=validation_generator.samples // batch_size)\n"
   ]
  },
  {
   "cell_type": "code",
   "execution_count": 16,
   "metadata": {},
   "outputs": [],
   "source": [
    "model.save('brain_tumor_classification_model.h5')"
   ]
  }
 ],
 "metadata": {
  "kernelspec": {
   "display_name": "Python 3",
   "language": "python",
   "name": "python3"
  },
  "language_info": {
   "codemirror_mode": {
    "name": "ipython",
    "version": 3
   },
   "file_extension": ".py",
   "mimetype": "text/x-python",
   "name": "python",
   "nbconvert_exporter": "python",
   "pygments_lexer": "ipython3",
   "version": "3.11.4"
  }
 },
 "nbformat": 4,
 "nbformat_minor": 2
}
